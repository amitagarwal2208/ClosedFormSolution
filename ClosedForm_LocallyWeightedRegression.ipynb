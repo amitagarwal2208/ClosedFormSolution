{
 "cells": [
  {
   "cell_type": "code",
   "execution_count": 1,
   "metadata": {},
   "outputs": [],
   "source": [
    "import numpy as np\n",
    "import pandas as pd\n",
    "import matplotlib.pyplot as plt"
   ]
  },
  {
   "cell_type": "code",
   "execution_count": 2,
   "metadata": {},
   "outputs": [],
   "source": [
    "dfx = pd.read_csv(\"/Volumes/part3/LocallyWeightedReg/weightedX.csv\")\n",
    "dfy = pd.read_csv(\"/Volumes/part3/LocallyWeightedReg/weightedY.csv\")\n",
    "\n",
    "X = dfx.values\n",
    "Y = dfy.values"
   ]
  },
  {
   "cell_type": "code",
   "execution_count": 3,
   "metadata": {},
   "outputs": [
    {
     "name": "stdout",
     "output_type": "stream",
     "text": [
      "(99, 1)\n",
      "(99, 1)\n"
     ]
    }
   ],
   "source": [
    "print(X.shape)\n",
    "print(Y.shape)"
   ]
  },
  {
   "cell_type": "code",
   "execution_count": 7,
   "metadata": {},
   "outputs": [
    {
     "data": {
      "image/png": "[encoded data removed]",
      "text/plain": [
       "<Figure size 576x396 with 1 Axes>"
      ]
     },
     "metadata": {},
     "output_type": "display_data"
    }
   ],
   "source": [
    "## Normalize the data\n",
    "\n",
    "X = (X-X.mean())/X.std()\n",
    "plt.style.use(\"seaborn\")\n",
    "plt.title(\"Normalized Data\")\n",
    "plt.scatter(X,Y)\n",
    "plt.show()"
   ]
  },
  {
   "cell_type": "markdown",
   "metadata": {},
   "source": [
    "## FInding w --> weighted loss where w is a diagonal matrix."
   ]
  },
  {
   "cell_type": "code",
   "execution_count": 19,
   "metadata": {},
   "outputs": [
    {
     "name": "stdout",
     "output_type": "stream",
     "text": [
      "<class 'numpy.ndarray'>\n",
      "<class 'numpy.matrixlib.defmatrix.matrix'>\n"
     ]
    }
   ],
   "source": [
    "a = np.eye(4)\n",
    "print(type(a))\n",
    "b = np.mat(x)\n",
    "print(type(b))\n",
    "\n",
    "## Difference between numpy array and matrices :\n",
    "## if we do a*b ->\n",
    "## 1) if a and b are matrices ==> a*b is matrix multiplication\n",
    "## 2) if a and b are numpya array ==> a*b is element wise multiplication."
   ]
  },
  {
   "cell_type": "code",
   "execution_count": 116,
   "metadata": {},
   "outputs": [],
   "source": [
    "def getW(X , querypt , tau):\n",
    "    m = X.shape[0]\n",
    "    W = np.mat(np.eye(m))\n",
    "    \n",
    "    for i in range(m):\n",
    "        xi = X[i]\n",
    "        W[i,i] = np.exp( (-( (np.dot( (xi-querypt) , (xi-querypt).T )) ))/(2*tau*tau))\n",
    "        \n",
    "    return W"
   ]
  },
  {
   "cell_type": "code",
   "execution_count": 117,
   "metadata": {},
   "outputs": [
    {
     "name": "stdout",
     "output_type": "stream",
     "text": [
      "(99, 99)\n",
      "[[0.81327022 0.         0.        ]\n",
      " [0.         0.98353311 0.        ]\n",
      " [0.         0.         0.81193405]]\n"
     ]
    }
   ],
   "source": [
    "X = np.mat(X)\n",
    "Y = np.mat(Y)\n",
    "m = X.shape[0]\n",
    "W = getW(X, -1, 1)\n",
    "print(W.shape)\n",
    "print(W[:3,:3])"
   ]
  },
  {
   "cell_type": "code",
   "execution_count": 118,
   "metadata": {},
   "outputs": [
    {
     "name": "stdout",
     "output_type": "stream",
     "text": [
      "[[-0.35705077]\n",
      " [-0.8177695 ]\n",
      " [-0.35449839]\n",
      " [ 0.56434066]\n",
      " [-0.0695723 ]\n",
      " [ 1.63427275]\n",
      " [-1.23691358]\n",
      " [ 0.0964585 ]\n",
      " [-0.15934525]]\n"
     ]
    }
   ],
   "source": [
    "print(X[:9,:])"
   ]
  },
  {
   "cell_type": "code",
   "execution_count": 119,
   "metadata": {},
   "outputs": [
    {
     "name": "stdout",
     "output_type": "stream",
     "text": [
      "[[-0.35449839]]\n"
     ]
    }
   ],
   "source": [
    "print(X[2])"
   ]
  },
  {
   "cell_type": "code",
   "execution_count": 120,
   "metadata": {},
   "outputs": [
    {
     "name": "stdout",
     "output_type": "stream",
     "text": [
      "[[0.64550161]] [[0.64550161]]\n"
     ]
    }
   ],
   "source": [
    "a = X[2]\n",
    "b = -1\n",
    "c =a-b\n",
    "d=(a-b).T\n",
    "print(c,d)"
   ]
  },
  {
   "cell_type": "code",
   "execution_count": 121,
   "metadata": {},
   "outputs": [
    {
     "name": "stdout",
     "output_type": "stream",
     "text": [
      "[1 2] [1 2]\n"
     ]
    },
    {
     "data": {
      "text/plain": [
       "5"
      ]
     },
     "execution_count": 121,
     "metadata": {},
     "output_type": "execute_result"
    }
   ],
   "source": [
    "a = np.array([2,3])\n",
    "q = [1,1]\n",
    "c = a-q\n",
    "d = (a-q).T\n",
    "print(c,d)\n",
    "np.dot(c,d)"
   ]
  },
  {
   "cell_type": "code",
   "execution_count": 122,
   "metadata": {},
   "outputs": [
    {
     "name": "stdout",
     "output_type": "stream",
     "text": [
      "(99, 99)\n"
     ]
    }
   ],
   "source": [
    "print(W.shape)"
   ]
  },
  {
   "cell_type": "code",
   "execution_count": 123,
   "metadata": {},
   "outputs": [],
   "source": [
    "np.hstack?"
   ]
  },
  {
   "cell_type": "code",
   "execution_count": 124,
   "metadata": {},
   "outputs": [
    {
     "name": "stdout",
     "output_type": "stream",
     "text": [
      "[[1.]\n",
      " [1.]\n",
      " [1.]]\n",
      "[[0.]\n",
      " [0.]\n",
      " [0.]]\n"
     ]
    },
    {
     "data": {
      "text/plain": [
       "array([[1., 0.],\n",
       "       [1., 0.],\n",
       "       [1., 0.]])"
      ]
     },
     "execution_count": 124,
     "metadata": {},
     "output_type": "execute_result"
    }
   ],
   "source": [
    "a = np.ones((3,1))\n",
    "b = np.zeros((3,1))\n",
    "print(a)\n",
    "print(b)\n",
    "np.hstack((a,b))\n"
   ]
  },
  {
   "cell_type": "code",
   "execution_count": 125,
   "metadata": {},
   "outputs": [
    {
     "name": "stdout",
     "output_type": "stream",
     "text": [
      "11\n"
     ]
    }
   ],
   "source": [
    "#try\n",
    "a = np.array([1,2])\n",
    "b = np.array([3,4])\n",
    "print(np.dot(a,b))"
   ]
  },
  {
   "cell_type": "markdown",
   "metadata": {},
   "source": [
    "## Making Predictions"
   ]
  },
  {
   "cell_type": "code",
   "execution_count": 126,
   "metadata": {},
   "outputs": [],
   "source": [
    "def predict(X,Y,querypt,tau):\n",
    "    m = X.shape[0]\n",
    "    ones = np.ones((m,1))\n",
    "    X_ = np.hstack((X,ones))\n",
    "    \n",
    "    queryx = np.mat([querypt , 1])\n",
    "    #print(queryx)\n",
    "    W = getW(X,querypt , tau)\n",
    "    \n",
    "    theta = np.linalg.pinv(X_.T*W*X_)*(X_.T*W*Y)\n",
    "    pred = np.dot(queryx , theta)\n",
    "    return theta , pred\n",
    "    "
   ]
  },
  {
   "cell_type": "code",
   "execution_count": 127,
   "metadata": {},
   "outputs": [
    {
     "name": "stdout",
     "output_type": "stream",
     "text": [
      "[[0.14069504]\n",
      " [1.45348191]]\n"
     ]
    }
   ],
   "source": [
    "theta , pred = predict(X,Y,1.0,1.0)\n",
    "print(theta)"
   ]
  },
  {
   "cell_type": "code",
   "execution_count": 128,
   "metadata": {},
   "outputs": [
    {
     "name": "stdout",
     "output_type": "stream",
     "text": [
      "(2, 1)\n"
     ]
    }
   ],
   "source": [
    "print(theta.shape)"
   ]
  },
  {
   "cell_type": "code",
   "execution_count": 129,
   "metadata": {},
   "outputs": [
    {
     "name": "stdout",
     "output_type": "stream",
     "text": [
      "[[1.59417694]]\n",
      "<class 'numpy.matrixlib.defmatrix.matrix'>\n"
     ]
    }
   ],
   "source": [
    "print(pred)\n",
    "print(type(X))"
   ]
  },
  {
   "cell_type": "markdown",
   "metadata": {},
   "source": [
    "## Visualize Predictions , Analyze tau "
   ]
  },
  {
   "cell_type": "code",
   "execution_count": 130,
   "metadata": {},
   "outputs": [],
   "source": [
    "def plotPredictions(tau):\n",
    "    Xtest = np.linspace(-2,2,20)\n",
    "    Ytest = []\n",
    "    \n",
    "    for qx in Xtest:\n",
    "        theta , pred = predict(X,Y,qx ,tau)\n",
    "        Ytest.append(pred[0][0])\n",
    "        \n",
    "    Ytest = np.array(Ytest)\n",
    "    \n",
    "    XO = np.array(X)\n",
    "    YO = np.array(Y)\n",
    "    \n",
    "    plt.scatter(XO,YO)\n",
    "    plt.scatter(Xtest , Ytest , c='r')\n",
    "    plt.show()\n",
    "    "
   ]
  },
  {
   "cell_type": "code",
   "execution_count": 132,
   "metadata": {},
   "outputs": [
    {
     "data": {
      "image/png": "[encoded data removed]",
      "text/plain": [
       "<Figure size 576x396 with 1 Axes>"
      ]
     },
     "metadata": {},
     "output_type": "display_data"
    }
   ],
   "source": [
    "plotPredictions(0.1)"
   ]
  },
  {
   "cell_type": "code",
   "execution_count": null,
   "metadata": {},
   "outputs": [],
   "source": []
  }
 ],
 "metadata": {
  "kernelspec": {
   "display_name": "Python 3",
   "language": "python",
   "name": "python3"
  },
  "language_info": {
   "codemirror_mode": {
    "name": "ipython",
    "version": 3
   },
   "file_extension": ".py",
   "mimetype": "text/x-python",
   "name": "python",
   "nbconvert_exporter": "python",
   "pygments_lexer": "ipython3",
   "version": "3.7.0"
  }
 },
 "nbformat": 4,
 "nbformat_minor": 2
}
